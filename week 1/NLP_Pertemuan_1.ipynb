{
 "cells": [
  {
   "cell_type": "markdown",
   "metadata": {
    "id": "SAFxZZ0F8X6L"
   },
   "source": [
    "<center><strong>Text Mining</strong><br />\n",
    "<strong><font color=\"blue\">Semester Genap 2024-2025</font></strong><br />\n",
    "</center>\n",
    "\n",
    "<strong>Outline pertemuan minggu ke-1</strong><br />\n",
    "<li> Instalasi anaconda </li>\n",
    "<li> Instalasi Library yang dibutuhkan selama kelas Text Mining</li>\n",
    "\n",
    "<strong>Catatan</strong>: dibutuhkan <strong>koneksi internet</strong> untuk melakukan instalasi program dan library\n",
    "\n"
   ]
  },
  {
   "cell_type": "markdown",
   "metadata": {
    "id": "VTUM0wHa8X6z"
   },
   "source": [
    "<strong> Requirements: </strong>\n",
    "<dl>\n",
    "\t<dd>Python 3. (anaconda)</dd>\n",
    "    <dd>Library: </dd>\n",
    "    <dt> - NLTK </dt>\n",
    "    <dt> - scikit-learn </dt>\n",
    "    <dt> - textblob </dt>\n",
    "    <dt> - Sastrawi </dt>\n",
    "    <dt> - gensim </dt>\n",
    "    <dt> - Keras </dt>\n",
    "    <dt> - spacy </dt>\n",
    "    <dt> - numpy </dt>\n",
    "    <dt> - scipy </dt>\n",
    "    <dt> - pandas </dt>\n",
    "    <dt> - networkx </dt>\n",
    "</dl>\n",
    "<p>Ekspektasi spesifikasi komputer:</p>\n",
    "\n",
    "<ol>\n",
    "\t<li><strong>OS</strong>: Windows/Linux/Mac <strong><font color=\"blue\">64bit</font></strong></li>\n",
    "\t<li><strong>RAM</strong>: 4Gb or More</li>\n",
    "\t<li><strong>CPU</strong>: minimum 1 Ghz</li>\n",
    "</ol>"
   ]
  },
  {
   "cell_type": "markdown",
   "metadata": {
    "id": "5lh1bG9N8X64"
   },
   "source": [
    "__Anaconda__\n",
    "\n",
    "<li> Download anaconda installer dari <a href=\"https://www.anaconda.com/products/individual\">https://www.anaconda.com/products/individual</a>\n",
    "<li>Pilih installer sesuai dengan OS pada maisng-masing komputer\n",
    "<li>Ikuti proses installasi sesuai dengan petunjuk\n",
    "\n",
    "<img alt=\"\" src=\"figures/anaconda.png\" />\n"
   ]
  },
  {
   "cell_type": "markdown",
   "metadata": {
    "id": "rnLblkpH8X66"
   },
   "source": [
    "<p> Setelah berhasil melakukan instalasi Anaconda cobalah untuk membuka Anaconda Navigator sehingga muncul tampilan seperti di bawah ini </p>\n",
    "\n",
    "<p>\n",
    "<img alt=\"\" src=\"figures/navigator.png\" />\n",
    "</p>"
   ]
  },
  {
   "cell_type": "markdown",
   "metadata": {
    "id": "PETzMTez8X68"
   },
   "source": [
    "__Melakukan setting environment__\n",
    "\n",
    "Sebelum melakukan instalasi library terlebih dahulu dilakukan pembuatan __environment baru__ (secara default __base (root)__)\n",
    "<li> Pilih tab Environments pada bagian kiri </li>\n",
    "<li> Pilih create </li>\n",
    "<li> Masukkan nama Environments yang diinginkan (contoh: python38) </li>\n",
    "<li> Pilih package python dan versinya </li>\n",
    "<li> Tekan tombol create </li>"
   ]
  },
  {
   "cell_type": "markdown",
   "metadata": {
    "id": "h0CRnvcw8X6_"
   },
   "source": [
    "__Masuk ke dalam Environment baru__\n",
    "\n",
    "<p> Sebelum melakukan installasi library pastikan anda sudah berada pada environment baru yang telah ada buat sebelumnya </p>\n",
    "<p> Pilih tab Home; pastikan pada bagian Applications on sudah dipilih nama <strong> Environment baru </strong> seperti yang ditunjukkan pada gambar di bawah ini </p>\n",
    "<p>\n",
    "<img alt=\"\" src=\"figures/env.png\" />\n",
    "</p>"
   ]
  },
  {
   "cell_type": "markdown",
   "metadata": {
    "id": "8v6yVPHj8X7A"
   },
   "source": [
    "__Installasi Library__\n",
    "<li> Pilih tab Environments </li>\n",
    "<li> Pilih not installed seperti pada Gambar di bawah ini</li>\n",
    "<li> Carilah library yang diiginkan pada search </li>\n",
    "<li> Kemudian lakukan installasi </li>\n",
    "\n",
    "<p>\n",
    "<img alt=\"\" src=\"figures/library.png\" />\n",
    "</p>"
   ]
  },
  {
   "cell_type": "markdown",
   "metadata": {
    "id": "SxFzFCxV8X7C"
   },
   "source": [
    "Setelah selesai malakukan installasi library, selanjutnya dilakukan installasi jupyter notebook denagn menekan tombol install di bawah icon jupyter notebook pada tab Home\n",
    "\n",
    "__Note:__ pastikan sudah berada pada Environment baru yang telah dibuat"
   ]
  },
  {
   "cell_type": "markdown",
   "metadata": {
    "id": "hIF3Kutn8X7D"
   },
   "source": [
    "__Tes Library__\n",
    "\n",
    "Launch __jupyter notebook__ kemudian coba import library yang telah diinstall seperti pada cell di bawah ini\n",
    "\n",
    "<p>Apabila tidak ada error berarti installasi semua library telah berhasil</p>"
   ]
  },
  {
   "cell_type": "code",
   "execution_count": null,
   "metadata": {
    "colab": {
     "base_uri": "https://localhost:8080/"
    },
    "executionInfo": {
     "elapsed": 3231,
     "status": "ok",
     "timestamp": 1663130836796,
     "user": {
      "displayName": "Dini Adni Navastara",
      "userId": "12219215786696479130"
     },
     "user_tz": -420
    },
    "id": "_6WBMhMA8X7F",
    "outputId": "c42b341d-1629-42e4-d687-af5556d8828c"
   },
   "outputs": [
    {
     "name": "stdout",
     "output_type": "stream",
     "text": [
      "Looking in indexes: https://pypi.org/simple, https://us-python.pkg.dev/colab-wheels/public/simple/\n",
      "Requirement already satisfied: textblob in /usr/local/lib/python3.7/dist-packages (0.15.3)\n",
      "Requirement already satisfied: nltk>=3.1 in /usr/local/lib/python3.7/dist-packages (from textblob) (3.7)\n",
      "Requirement already satisfied: click in /usr/local/lib/python3.7/dist-packages (from nltk>=3.1->textblob) (7.1.2)\n",
      "Requirement already satisfied: regex>=2021.8.3 in /usr/local/lib/python3.7/dist-packages (from nltk>=3.1->textblob) (2022.6.2)\n",
      "Requirement already satisfied: tqdm in /usr/local/lib/python3.7/dist-packages (from nltk>=3.1->textblob) (4.64.1)\n",
      "Requirement already satisfied: joblib in /usr/local/lib/python3.7/dist-packages (from nltk>=3.1->textblob) (1.1.0)\n"
     ]
    }
   ],
   "source": [
    "!pip install textblob"
   ]
  },
  {
   "cell_type": "code",
   "execution_count": null,
   "metadata": {
    "colab": {
     "base_uri": "https://localhost:8080/"
    },
    "executionInfo": {
     "elapsed": 3535,
     "status": "ok",
     "timestamp": 1663130030291,
     "user": {
      "displayName": "Dini Adni Navastara",
      "userId": "12219215786696479130"
     },
     "user_tz": -420
    },
    "id": "dT6tymjc8X7L",
    "outputId": "fe803d04-4f87-4acd-921e-79c249166414"
   },
   "outputs": [
    {
     "name": "stdout",
     "output_type": "stream",
     "text": [
      "Looking in indexes: https://pypi.org/simple, https://us-python.pkg.dev/colab-wheels/public/simple/\n",
      "Collecting sastrawi\n",
      "  Downloading Sastrawi-1.0.1-py2.py3-none-any.whl (209 kB)\n",
      "\u001b[?25l\r\u001b[K     |█▋                              | 10 kB 21.6 MB/s eta 0:00:01\r\u001b[K     |███▏                            | 20 kB 24.0 MB/s eta 0:00:01\r\u001b[K     |████▊                           | 30 kB 28.1 MB/s eta 0:00:01\r\u001b[K     |██████▎                         | 40 kB 30.7 MB/s eta 0:00:01\r\u001b[K     |███████▉                        | 51 kB 33.0 MB/s eta 0:00:01\r\u001b[K     |█████████▍                      | 61 kB 35.9 MB/s eta 0:00:01\r\u001b[K     |███████████                     | 71 kB 26.0 MB/s eta 0:00:01\r\u001b[K     |████████████▌                   | 81 kB 25.4 MB/s eta 0:00:01\r\u001b[K     |██████████████                  | 92 kB 25.2 MB/s eta 0:00:01\r\u001b[K     |███████████████▋                | 102 kB 26.4 MB/s eta 0:00:01\r\u001b[K     |█████████████████▏              | 112 kB 26.4 MB/s eta 0:00:01\r\u001b[K     |██████████████████▊             | 122 kB 26.4 MB/s eta 0:00:01\r\u001b[K     |████████████████████▎           | 133 kB 26.4 MB/s eta 0:00:01\r\u001b[K     |█████████████████████▉          | 143 kB 26.4 MB/s eta 0:00:01\r\u001b[K     |███████████████████████▍        | 153 kB 26.4 MB/s eta 0:00:01\r\u001b[K     |█████████████████████████       | 163 kB 26.4 MB/s eta 0:00:01\r\u001b[K     |██████████████████████████▋     | 174 kB 26.4 MB/s eta 0:00:01\r\u001b[K     |████████████████████████████▏   | 184 kB 26.4 MB/s eta 0:00:01\r\u001b[K     |█████████████████████████████▊  | 194 kB 26.4 MB/s eta 0:00:01\r\u001b[K     |███████████████████████████████▎| 204 kB 26.4 MB/s eta 0:00:01\r\u001b[K     |████████████████████████████████| 209 kB 26.4 MB/s \n",
      "\u001b[?25hInstalling collected packages: sastrawi\n",
      "Successfully installed sastrawi-1.0.1\n"
     ]
    }
   ],
   "source": [
    "!pip install sastrawi"
   ]
  },
  {
   "cell_type": "code",
   "execution_count": null,
   "metadata": {
    "id": "xEz6vQZb8X7N"
   },
   "outputs": [],
   "source": [
    "import nltk\n",
    "import sklearn\n",
    "import textblob\n",
    "import Sastrawi\n",
    "import gensim\n",
    "import spacy\n",
    "import numpy\n",
    "import scipy\n",
    "import pandas\n",
    "import networkx"
   ]
  },
  {
   "cell_type": "code",
   "execution_count": null,
   "metadata": {
    "colab": {
     "base_uri": "https://localhost:8080/"
    },
    "executionInfo": {
     "elapsed": 9958,
     "status": "ok",
     "timestamp": 1663130865894,
     "user": {
      "displayName": "Dini Adni Navastara",
      "userId": "12219215786696479130"
     },
     "user_tz": -420
    },
    "id": "1lxK_Dkv8X7O",
    "outputId": "70a32c61-7bbb-4957-ef84-b198c68d2d88"
   },
   "outputs": [
    {
     "name": "stdout",
     "output_type": "stream",
     "text": [
      "2022-09-14 04:47:40.448172: E tensorflow/stream_executor/cuda/cuda_driver.cc:271] failed call to cuInit: CUDA_ERROR_NO_DEVICE: no CUDA-capable device is detected\n",
      "Looking in indexes: https://pypi.org/simple, https://us-python.pkg.dev/colab-wheels/public/simple/\n",
      "Collecting en-core-web-sm==3.4.0\n",
      "  Downloading https://github.com/explosion/spacy-models/releases/download/en_core_web_sm-3.4.0/en_core_web_sm-3.4.0-py3-none-any.whl (12.8 MB)\n",
      "\u001b[K     |████████████████████████████████| 12.8 MB 21.4 MB/s \n",
      "\u001b[?25hRequirement already satisfied: spacy<3.5.0,>=3.4.0 in /usr/local/lib/python3.7/dist-packages (from en-core-web-sm==3.4.0) (3.4.1)\n",
      "Requirement already satisfied: requests<3.0.0,>=2.13.0 in /usr/local/lib/python3.7/dist-packages (from spacy<3.5.0,>=3.4.0->en-core-web-sm==3.4.0) (2.23.0)\n",
      "Requirement already satisfied: murmurhash<1.1.0,>=0.28.0 in /usr/local/lib/python3.7/dist-packages (from spacy<3.5.0,>=3.4.0->en-core-web-sm==3.4.0) (1.0.8)\n",
      "Requirement already satisfied: langcodes<4.0.0,>=3.2.0 in /usr/local/lib/python3.7/dist-packages (from spacy<3.5.0,>=3.4.0->en-core-web-sm==3.4.0) (3.3.0)\n",
      "Requirement already satisfied: spacy-loggers<2.0.0,>=1.0.0 in /usr/local/lib/python3.7/dist-packages (from spacy<3.5.0,>=3.4.0->en-core-web-sm==3.4.0) (1.0.3)\n",
      "Requirement already satisfied: setuptools in /usr/local/lib/python3.7/dist-packages (from spacy<3.5.0,>=3.4.0->en-core-web-sm==3.4.0) (57.4.0)\n",
      "Requirement already satisfied: jinja2 in /usr/local/lib/python3.7/dist-packages (from spacy<3.5.0,>=3.4.0->en-core-web-sm==3.4.0) (2.11.3)\n",
      "Requirement already satisfied: tqdm<5.0.0,>=4.38.0 in /usr/local/lib/python3.7/dist-packages (from spacy<3.5.0,>=3.4.0->en-core-web-sm==3.4.0) (4.64.1)\n",
      "Requirement already satisfied: catalogue<2.1.0,>=2.0.6 in /usr/local/lib/python3.7/dist-packages (from spacy<3.5.0,>=3.4.0->en-core-web-sm==3.4.0) (2.0.8)\n",
      "Requirement already satisfied: pathy>=0.3.5 in /usr/local/lib/python3.7/dist-packages (from spacy<3.5.0,>=3.4.0->en-core-web-sm==3.4.0) (0.6.2)\n",
      "Requirement already satisfied: spacy-legacy<3.1.0,>=3.0.9 in /usr/local/lib/python3.7/dist-packages (from spacy<3.5.0,>=3.4.0->en-core-web-sm==3.4.0) (3.0.10)\n",
      "Requirement already satisfied: srsly<3.0.0,>=2.4.3 in /usr/local/lib/python3.7/dist-packages (from spacy<3.5.0,>=3.4.0->en-core-web-sm==3.4.0) (2.4.4)\n",
      "Requirement already satisfied: typer<0.5.0,>=0.3.0 in /usr/local/lib/python3.7/dist-packages (from spacy<3.5.0,>=3.4.0->en-core-web-sm==3.4.0) (0.4.2)\n",
      "Requirement already satisfied: pydantic!=1.8,!=1.8.1,<1.10.0,>=1.7.4 in /usr/local/lib/python3.7/dist-packages (from spacy<3.5.0,>=3.4.0->en-core-web-sm==3.4.0) (1.9.2)\n",
      "Requirement already satisfied: packaging>=20.0 in /usr/local/lib/python3.7/dist-packages (from spacy<3.5.0,>=3.4.0->en-core-web-sm==3.4.0) (21.3)\n",
      "Requirement already satisfied: wasabi<1.1.0,>=0.9.1 in /usr/local/lib/python3.7/dist-packages (from spacy<3.5.0,>=3.4.0->en-core-web-sm==3.4.0) (0.10.1)\n",
      "Requirement already satisfied: preshed<3.1.0,>=3.0.2 in /usr/local/lib/python3.7/dist-packages (from spacy<3.5.0,>=3.4.0->en-core-web-sm==3.4.0) (3.0.7)\n",
      "Requirement already satisfied: numpy>=1.15.0 in /usr/local/lib/python3.7/dist-packages (from spacy<3.5.0,>=3.4.0->en-core-web-sm==3.4.0) (1.21.6)\n",
      "Requirement already satisfied: typing-extensions<4.2.0,>=3.7.4 in /usr/local/lib/python3.7/dist-packages (from spacy<3.5.0,>=3.4.0->en-core-web-sm==3.4.0) (4.1.1)\n",
      "Requirement already satisfied: cymem<2.1.0,>=2.0.2 in /usr/local/lib/python3.7/dist-packages (from spacy<3.5.0,>=3.4.0->en-core-web-sm==3.4.0) (2.0.6)\n",
      "Requirement already satisfied: thinc<8.2.0,>=8.1.0 in /usr/local/lib/python3.7/dist-packages (from spacy<3.5.0,>=3.4.0->en-core-web-sm==3.4.0) (8.1.0)\n",
      "Requirement already satisfied: zipp>=0.5 in /usr/local/lib/python3.7/dist-packages (from catalogue<2.1.0,>=2.0.6->spacy<3.5.0,>=3.4.0->en-core-web-sm==3.4.0) (3.8.1)\n",
      "Requirement already satisfied: pyparsing!=3.0.5,>=2.0.2 in /usr/local/lib/python3.7/dist-packages (from packaging>=20.0->spacy<3.5.0,>=3.4.0->en-core-web-sm==3.4.0) (3.0.9)\n",
      "Requirement already satisfied: smart-open<6.0.0,>=5.2.1 in /usr/local/lib/python3.7/dist-packages (from pathy>=0.3.5->spacy<3.5.0,>=3.4.0->en-core-web-sm==3.4.0) (5.2.1)\n",
      "Requirement already satisfied: certifi>=2017.4.17 in /usr/local/lib/python3.7/dist-packages (from requests<3.0.0,>=2.13.0->spacy<3.5.0,>=3.4.0->en-core-web-sm==3.4.0) (2022.6.15)\n",
      "Requirement already satisfied: urllib3!=1.25.0,!=1.25.1,<1.26,>=1.21.1 in /usr/local/lib/python3.7/dist-packages (from requests<3.0.0,>=2.13.0->spacy<3.5.0,>=3.4.0->en-core-web-sm==3.4.0) (1.24.3)\n",
      "Requirement already satisfied: idna<3,>=2.5 in /usr/local/lib/python3.7/dist-packages (from requests<3.0.0,>=2.13.0->spacy<3.5.0,>=3.4.0->en-core-web-sm==3.4.0) (2.10)\n",
      "Requirement already satisfied: chardet<4,>=3.0.2 in /usr/local/lib/python3.7/dist-packages (from requests<3.0.0,>=2.13.0->spacy<3.5.0,>=3.4.0->en-core-web-sm==3.4.0) (3.0.4)\n",
      "Requirement already satisfied: blis<0.8.0,>=0.7.8 in /usr/local/lib/python3.7/dist-packages (from thinc<8.2.0,>=8.1.0->spacy<3.5.0,>=3.4.0->en-core-web-sm==3.4.0) (0.7.8)\n",
      "Requirement already satisfied: click<9.0.0,>=7.1.1 in /usr/local/lib/python3.7/dist-packages (from typer<0.5.0,>=0.3.0->spacy<3.5.0,>=3.4.0->en-core-web-sm==3.4.0) (7.1.2)\n",
      "Requirement already satisfied: MarkupSafe>=0.23 in /usr/local/lib/python3.7/dist-packages (from jinja2->spacy<3.5.0,>=3.4.0->en-core-web-sm==3.4.0) (2.0.1)\n",
      "\u001b[38;5;2m✔ Download and installation successful\u001b[0m\n",
      "You can now load the package via spacy.load('en_core_web_sm')\n"
     ]
    }
   ],
   "source": [
    "!python -m spacy download en_core_web_sm"
   ]
  },
  {
   "cell_type": "markdown",
   "metadata": {
    "id": "zovAshzuDv3J"
   },
   "source": []
  },
  {
   "cell_type": "code",
   "execution_count": null,
   "metadata": {
    "id": "N4cqL0JoDviP"
   },
   "outputs": [],
   "source": []
  },
  {
   "cell_type": "code",
   "execution_count": null,
   "metadata": {
    "id": "PDUm_a63Dvc6"
   },
   "outputs": [],
   "source": []
  }
 ],
 "metadata": {
  "celltoolbar": "Slideshow",
  "colab": {
   "provenance": []
  },
  "kernelspec": {
   "display_name": "Python 3",
   "language": "python",
   "name": "python3"
  },
  "language_info": {
   "codemirror_mode": {
    "name": "ipython",
    "version": 3
   },
   "file_extension": ".py",
   "mimetype": "text/x-python",
   "name": "python",
   "nbconvert_exporter": "python",
   "pygments_lexer": "ipython3",
   "version": "3.6.6"
  }
 },
 "nbformat": 4,
 "nbformat_minor": 0
}
